{
  "nbformat": 4,
  "nbformat_minor": 0,
  "metadata": {
    "colab": {
      "name": " Assignment-6",
      "provenance": [],
      "collapsed_sections": [],
      "include_colab_link": true
    },
    "kernelspec": {
      "name": "python3",
      "display_name": "Python 3"
    }
  },
  "cells": [
    {
      "cell_type": "markdown",
      "metadata": {
        "id": "view-in-github",
        "colab_type": "text"
      },
      "source": [
        "<a href=\"https://colab.research.google.com/github/durgadevi-392/python-Essential-Lu-day-6/blob/master/Assignment_6.ipynb\" target=\"_parent\"><img src=\"https://colab.research.google.com/assets/colab-badge.svg\" alt=\"Open In Colab\"/></a>"
      ]
    },
    {
      "cell_type": "markdown",
      "metadata": {
        "id": "OLThhhSiA0Wm",
        "colab_type": "text"
      },
      "source": [
        "Program to convert two lists into dictionary using list comprehension"
      ]
    },
    {
      "cell_type": "code",
      "metadata": {
        "id": "1pPtiFYNA7YD",
        "colab_type": "code",
        "colab": {
          "base_uri": "https://localhost:8080/",
          "height": 54
        },
        "outputId": "3dfd779b-7300-43a2-b5a2-4d14448146a6"
      },
      "source": [
        " \n",
        "list1 = [1,2,3,4,5,6,7,8]\n",
        "list2 = [\"a\",\"b\",\"c\",\"d\",\"e\"]\n",
        " \n",
        "print(dict([(list1[each],list2[each]) for each in range(min(len(list1),len(list2)))]))"
      ],
      "execution_count": null,
      "outputs": [
        {
          "output_type": "stream",
          "text": [
            "{1: 'a', 2: 'b', 3: 'c', 4: 'd', 5: 'e'}\n"
          ],
          "name": "stdout"
        }
      ]
    }
  ]
}